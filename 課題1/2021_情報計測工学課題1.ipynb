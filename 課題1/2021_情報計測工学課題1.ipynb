{
  "nbformat": 4,
  "nbformat_minor": 0,
  "metadata": {
    "colab": {
      "name": "情報計測工学課題1 (1).ipynb",
      "provenance": [],
      "collapsed_sections": []
    },
    "kernelspec": {
      "name": "python3",
      "display_name": "Python 3"
    },
    "language_info": {
      "name": "python"
    }
  },
  "cells": [
    {
      "cell_type": "markdown",
      "metadata": {
        "id": "XVoh-XdLXo89"
      },
      "source": [
        "<課題>\n",
        "\n",
        "ダウンロードした画像ファイル の一つを選び、その画像の 濃度ヒストグラムを作成しなさい.\n",
        "\n",
        "全ての画像サイズは256 × 256 となっている．\n",
        "\n",
        "ヒストグラムは階調値0 255 を 32 段階でカウントする．\n",
        "\n",
        "また，頻度の表示は100 個ごとに表示する．\n",
        "\n",
        "bmp.hはビットマップファイルを読み書きするための関数が定義されている\n",
        "\n",
        "ファイル内の関数の説明：\n",
        "int LoadBMP(char *filename, unsigned char *image, int x, int y)\n",
        "\n",
        "説明：\n",
        "\n",
        "大きさ x × y のビットマップファイルを画像配列 image に読み込みを行う関数\n",
        "引数：\n",
        "\n",
        "filename: 画像ファイル名\n",
        "\n",
        "image: 画像配列\n",
        "\n",
        "x: 画像の横方向の大きさ\n",
        "\n",
        "y: 画像の縦方向の大きさ\n",
        "\n",
        "返り値：読み込みが成功したした場合，縦方向の大きさを返す．失敗した場合は 1"
      ]
    },
    {
      "cell_type": "code",
      "metadata": {
        "id": "cEjT3m0B5HGM"
      },
      "source": [
        "%%file project1.c\n",
        "#include<stdio.h>\n",
        "#include\"bmp.h\"\n",
        "\n",
        "int main(void)\n",
        "{\n",
        "\tunsigned char image[256][256];\n",
        "\tlong hist[32] = { 0 };\n",
        "\tchar filename[50];\n",
        "\n",
        "\tprintf(\"filename:\");\n",
        "\tscanf(\"%s\", filename);\n",
        "\tfor (int i = 0; i<256; i++){\n",
        "\t\tfor (int j = 0; j<256; j++){\n",
        "\t\t\timage[i][j] = 0;\n",
        "\t\t}\n",
        "\t}\n",
        "\tLoadBMP(filename, image[0], 256, 256);\n",
        "\n",
        "  //画素毎の階調値を配列に格納する\n",
        " \n",
        "\tprintf(\"range  freq\\n\");\n",
        "\n",
        "  //ヒストグラムの描画を行う\n",
        " \n",
        "\treturn 0;\n",
        "}"
      ],
      "execution_count": null,
      "outputs": []
    },
    {
      "cell_type": "code",
      "metadata": {
        "id": "xjYUeaEC5Jj9"
      },
      "source": [
        "!gcc project1.c -o project1 && ./project1"
      ],
      "execution_count": null,
      "outputs": []
    }
  ]
}